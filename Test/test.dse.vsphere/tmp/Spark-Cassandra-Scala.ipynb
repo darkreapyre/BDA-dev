{
 "cells": [
  {
   "cell_type": "code",
   "execution_count": 1,
   "metadata": {
    "collapsed": true
   },
   "outputs": [],
   "source": [
    "import org.apache.spark.{SparkConf, SparkContext}\n",
    "import org.apache.spark.SparkContext._\n",
    "import com.datastax.spark.connector._"
   ]
  },
  {
   "cell_type": "code",
   "execution_count": 2,
   "metadata": {
    "collapsed": false
   },
   "outputs": [
    {
     "name": "stdout",
     "output_type": "stream",
     "text": [
      "\r",
      "                                                                                \r",
      "Row Count: 1\n"
     ]
    }
   ],
   "source": [
    "val rdd = sc.cassandraTable(\"sensordata\", \"dht11\")\n",
    "println(\"Row Count: \" + rdd.count)"
   ]
  },
  {
   "cell_type": "code",
   "execution_count": 3,
   "metadata": {
    "collapsed": true
   },
   "outputs": [],
   "source": [
    "import org.apache.spark.sql.cassandra.CassandraSQLContext\n",
    "import org.apache.spark.sql.cassandra._\n",
    "import org.apache.spark.sql"
   ]
  },
  {
   "cell_type": "code",
   "execution_count": 4,
   "metadata": {
    "collapsed": true
   },
   "outputs": [],
   "source": [
    "val csc = new CassandraSQLContext(sc)"
   ]
  },
  {
   "cell_type": "code",
   "execution_count": 5,
   "metadata": {
    "collapsed": true
   },
   "outputs": [],
   "source": [
    "val rdd1 = csc.sql(\"SELECT count(*) from sensordata.dht11\")"
   ]
  },
  {
   "cell_type": "code",
   "execution_count": 6,
   "metadata": {
    "collapsed": false
   },
   "outputs": [
    {
     "name": "stdout",
     "output_type": "stream",
     "text": [
      "Row count: 1\n"
     ]
    }
   ],
   "source": [
    "println(\"Row count: \" + rdd1.first()(0))"
   ]
  },
  {
   "cell_type": "code",
   "execution_count": 7,
   "metadata": {
    "collapsed": false
   },
   "outputs": [
    {
     "name": "stdout",
     "output_type": "stream",
     "text": [
      "+--------+-----+------+-----+\n",
      "|sensorid|model|region|value|\n",
      "+--------+-----+------+-----+\n",
      "|       1|dht11|   USA| 42.1|\n",
      "+--------+-----+------+-----+\n",
      "\n"
     ]
    }
   ],
   "source": [
    "val sqlContext = new org.apache.spark.sql.SQLContext(sc)\n",
    "import sqlContext.implicits._\n",
    "\n",
    "val df = {sqlContext\n",
    "  .read\n",
    "  .format(\"org.apache.spark.sql.cassandra\")\n",
    "  .options(Map( \"table\" -> \"dht11\", \"keyspace\" -> \"sensordata\" ))\n",
    "  .load()}\n",
    "df.show"
   ]
  }
 ],
 "metadata": {
  "kernelspec": {
   "display_name": "Scala 2.10 (Spark)",
   "language": "",
   "name": "scala"
  },
  "language_info": {
   "name": "scala"
  }
 },
 "nbformat": 4,
 "nbformat_minor": 0
}
